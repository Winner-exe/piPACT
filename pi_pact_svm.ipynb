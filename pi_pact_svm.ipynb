{
 "cells": [
  {
   "cell_type": "markdown",
   "metadata": {},
   "source": [
    "# Support Vectors Classifier"
   ]
  },
  {
   "cell_type": "markdown",
   "metadata": {},
   "source": [
    "The following code trains a C-support vectors classifier."
   ]
  },
  {
   "cell_type": "code",
   "execution_count": 1,
   "metadata": {},
   "outputs": [],
   "source": [
    "# Config\n",
    "from pi_pact_sort import categorize, bin_categorize\n",
    "\n",
    "FEATURES: list = ['RSSI', 'HUMIDITY', 'PRESSURE'] # Contains strings 'RSSI', 'HUDMITIY', and/or 'PRESSURE'\n",
    "CATEGORIZE_FUNC = bin_categorize # One of the two binning functions in pi_pact_sort.py\n",
    "\n",
    "# Automatically configure other variables\n",
    "if len(FEATURES) > 1:\n",
    "    if len(FEATURES) == 2:\n",
    "        if 'HUMIDITY' in FEATURES:\n",
    "            feature_str = '3varH'\n",
    "        else:\n",
    "            feature_str = '3varP'\n",
    "    else:\n",
    "        feature_str = '4var'\n",
    "else:\n",
    "    feature_str = '2var'\n",
    "\n",
    "if CATEGORIZE_FUNC == categorize:\n",
    "    label_str = '3b'\n",
    "else:\n",
    "    label_str = 'binary'"
   ]
  },
  {
   "cell_type": "code",
   "execution_count": 2,
   "metadata": {},
   "outputs": [],
   "source": [
    "import pandas as pd\n",
    "from pathlib import Path\n",
    "import numpy as np\n",
    "from sklearn.decomposition import PCA\n",
    "from sklearn.model_selection import GridSearchCV\n",
    "from sklearn.pipeline import Pipeline\n",
    "from sklearn.preprocessing import MinMaxScaler, PolynomialFeatures\n",
    "from sklearn.svm import SVC\n",
    "\n",
    "DROP_COLUMNS = ['ADDRESS', 'TIMESTAMP', 'UUID', 'MAJOR', 'MINOR', 'TX POWER', 'TEMPERATURE',  \n",
    "                'PITCH', 'ROLL', 'YAW', 'SCAN']\n",
    "for feature in ['RSSI', 'HUMIDITY', 'PRESSURE']:\n",
    "    if feature not in FEATURES:\n",
    "        DROP_COLUMNS.append(feature)\n",
    "SAMPLE_SIZE = 30000\n",
    "np.random.seed(0)\n",
    "\n",
    "\n",
    "\"\"\"Trains a Support Vectors classifier to predict a distance range given RSSI values and other variables.\n",
    "\"\"\"\n",
    "\n",
    "# Initialize DataFrame\n",
    "data: pd.DataFrame = pd.DataFrame(columns=['DISTANCE', ] + FEATURES)\n",
    "data_copy: pd.DataFrame = data.copy()\n",
    "csv_file: Path\n",
    "for csv_file in Path('.').glob('indoor-noObstruct-SenseHat*/*.csv'):\n",
    "    datapart: pd.DataFrame = pd.read_csv(csv_file)\n",
    "    for column in DROP_COLUMNS:\n",
    "        if column in datapart.columns:\n",
    "            datapart = datapart.drop([column], 1)\n",
    "    data_copy = data_copy.append(datapart)\n",
    "\n",
    "# Categorize distance\n",
    "data_copy['DISTANCE'] = data_copy['DISTANCE'].map(CATEGORIZE_FUNC)\n",
    "\n",
    "# Sample data from each distance category\n",
    "for value in data_copy['DISTANCE'].unique():\n",
    "    datapart = data_copy[data_copy.DISTANCE == value]\n",
    "    datapart = datapart.sample(SAMPLE_SIZE, random_state=1)\n",
    "    data = data.append(datapart)\n",
    "\n",
    "# Assign features and labels\n",
    "X: np.array = data.drop(['DISTANCE'], 1).to_numpy(dtype='float32')\n",
    "y: np.array = data['DISTANCE'].to_numpy(dtype=int)\n",
    "\n",
    "# Preprocessing\n",
    "steps = [('min_max', MinMaxScaler()),\n",
    "         ('interactions', PolynomialFeatures(interaction_only=True,\n",
    "                                             include_bias=False))]\n",
    "if len(FEATURES) > 1:\n",
    "    steps.append(('dim_reduce', PCA()))\n",
    "preprocessing = Pipeline(steps=steps)\n",
    "pipe = Pipeline(steps=[('preprocessing', preprocessing),\n",
    "                       ('model', SVC(random_state=1))])"
   ]
  },
  {
   "cell_type": "code",
   "execution_count": 3,
   "metadata": {},
   "outputs": [
    {
     "data": {
      "text/plain": [
       "GridSearchCV(estimator=Pipeline(steps=[('preprocessing',\n",
       "                                        Pipeline(steps=[('min_max',\n",
       "                                                         MinMaxScaler()),\n",
       "                                                        ('interactions',\n",
       "                                                         PolynomialFeatures(include_bias=False,\n",
       "                                                                            interaction_only=True)),\n",
       "                                                        ('dim_reduce',\n",
       "                                                         PCA())])),\n",
       "                                       ('model', SVC(random_state=1))]),\n",
       "             n_jobs=2,\n",
       "             param_grid={'model__C': [1, 10], 'model__kernel': ['rbf'],\n",
       "                         'preprocessing__dim_reduce__n_components': [5]})"
      ]
     },
     "execution_count": 3,
     "metadata": {},
     "output_type": "execute_result"
    }
   ],
   "source": [
    "# Hyperparameter tuning\n",
    "param_grid = {'model__C': [1, 10],\n",
    "              'model__kernel': ['rbf',]}\n",
    "if len(FEATURES) > 1:\n",
    "    param_grid.update({'preprocessing__dim_reduce__n_components': [5,]})#i for i in range(2, 2**len(FEATURES)-1)]})\n",
    "\n",
    "grid = GridSearchCV(pipe, param_grid, n_jobs=2)\n",
    "grid.fit(X, y)"
   ]
  },
  {
   "cell_type": "code",
   "execution_count": 4,
   "metadata": {},
   "outputs": [
    {
     "name": "stdout",
     "output_type": "stream",
     "text": [
      "{'model__C': 10, 'model__kernel': 'rbf', 'preprocessing__dim_reduce__n_components': 5}\n",
      "accuracy = 0.9608333333333334\n"
     ]
    }
   ],
   "source": [
    "# Print optimal parameters and accuracy\n",
    "print(grid.best_params_)\n",
    "print('accuracy =', grid.best_score_)"
   ]
  },
  {
   "cell_type": "code",
   "execution_count": 5,
   "metadata": {},
   "outputs": [],
   "source": [
    "# Pickle model\n",
    "import pickle\n",
    "with open(f\"svm-models/{feature_str}-{label_str}-polyFeatures-dimReduce-svm-model.pickle\", \"wb\") as f:\n",
    "    pickle.dump(grid.best_estimator_, f)"
   ]
  },
  {
   "cell_type": "code",
   "execution_count": 6,
   "metadata": {},
   "outputs": [
    {
     "data": {
      "image/png": "[encoded data removed]",
      "text/plain": [
       "<Figure size 432x288 with 1 Axes>"
      ]
     },
     "metadata": {
      "needs_background": "light"
     },
     "output_type": "display_data"
    }
   ],
   "source": [
    "import matplotlib.pyplot as plt\n",
    "from sklearn.metrics import roc_curve\n",
    "\n",
    "# Plot an ROC curve\n",
    "if CATEGORIZE_FUNC == bin_categorize:\n",
    "    probs = grid.best_estimator_.decision_function(X)\n",
    "    fpr, tpr, _ = roc_curve(y, probs)\n",
    "    plt.plot(fpr, tpr)\n",
    "    plt.title('ROC curve')\n",
    "    plt.xlabel('false positive rate')\n",
    "    plt.ylabel('true positive rate')\n",
    "    plt.xlim(0,)\n",
    "    plt.ylim(0,)\n",
    "    plt.savefig(str(Path(f'svm-models/{feature_str}-{label_str}-polyFeatures-dimReduce-svm-model-roc-curve.png')))"
   ]
  }
 ],
 "metadata": {
  "kernelspec": {
   "display_name": "Python 3",
   "language": "python",
   "name": "python3"
  },
  "language_info": {
   "codemirror_mode": {
    "name": "ipython",
    "version": 3
   },
   "file_extension": ".py",
   "mimetype": "text/x-python",
   "name": "python",
   "nbconvert_exporter": "python",
   "pygments_lexer": "ipython3",
   "version": "3.7.7"
  }
 },
 "nbformat": 4,
 "nbformat_minor": 4
}
