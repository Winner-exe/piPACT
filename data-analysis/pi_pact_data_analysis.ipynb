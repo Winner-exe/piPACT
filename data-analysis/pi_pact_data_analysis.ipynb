{
 "cells": [
  {
   "cell_type": "code",
   "execution_count": 1,
   "metadata": {},
   "outputs": [],
   "source": [
    "%matplotlib inline"
   ]
  },
  {
   "cell_type": "code",
   "execution_count": 2,
   "metadata": {},
   "outputs": [],
   "source": [
    "import os,sys,inspect\n",
    "currentdir = os.path.dirname(os.path.abspath(inspect.getfile(inspect.currentframe())))\n",
    "parentdir = os.path.dirname(currentdir)\n",
    "sys.path.insert(0,parentdir)"
   ]
  },
  {
   "cell_type": "markdown",
   "metadata": {},
   "source": [
    "# RSSI vs. Distance KDE Plot"
   ]
  },
  {
   "cell_type": "markdown",
   "metadata": {},
   "source": [
    "The code below (taken from pi_pact_plot_distance.py) uses a kernel-density estimator to plot the probability-density functions of RSSI for each meter-long distance range."
   ]
  },
  {
   "cell_type": "code",
   "execution_count": 3,
   "metadata": {},
   "outputs": [],
   "source": [
    "import matplotlib.pyplot as plt\n",
    "from matplotlib import style\n",
    "import numpy as np\n",
    "import pandas as pd\n",
    "from pathlib import Path\n",
    "import pi_pact_sort\n",
    "\n",
    "DROP_COLUMNS = ['ADDRESS', 'TIMESTAMP', 'UUID', 'MAJOR', 'MINOR', 'TX POWER', 'TEMPERATURE',\n",
    "                'HUMIDITY', 'PRESSURE', 'PITCH', 'ROLL', 'YAW', 'SCAN']\n",
    "SAMPLE_SIZE: int = 30000"
   ]
  },
  {
   "cell_type": "code",
   "execution_count": null,
   "metadata": {},
   "outputs": [],
   "source": [
    "# Initialize DataFrame\n",
    "data: pd.DataFrame = pd.DataFrame(columns=['RSSI', 'DISTANCE'])\n",
    "data_copy: pd.DataFrame = data.copy()\n",
    "csv_file: Path\n",
    "for csv_file in Path('..').glob('indoor*/*.csv'):\n",
    "    datapart: pd.DataFrame = pd.read_csv(csv_file)\n",
    "    for column in DROP_COLUMNS:\n",
    "        if column in datapart.columns:\n",
    "            datapart = datapart.drop([column], 1)\n",
    "    data_copy = data_copy.append(datapart)"
   ]
  },
  {
   "cell_type": "code",
   "execution_count": null,
   "metadata": {},
   "outputs": [],
   "source": [
    "# Categorize distance\n",
    "data_copy['DISTANCE'] = data_copy['DISTANCE'].map(pi_pact_sort.categorize)"
   ]
  },
  {
   "cell_type": "code",
   "execution_count": null,
   "metadata": {},
   "outputs": [],
   "source": [
    "# Sample data from each distance category\n",
    "for value in data_copy['DISTANCE'].unique():\n",
    "    datapart = data_copy[data_copy.DISTANCE == value]\n",
    "    datapart = datapart.sample(SAMPLE_SIZE)\n",
    "    data = data.append(datapart)\n",
    "data_dict = {'H2': data[data.DISTANCE == 2]['RSSI'].to_numpy(dtype=int),\n",
    "             'H1': data[data.DISTANCE == 1]['RSSI'].to_numpy(dtype=int),\n",
    "             'H0': data[data.DISTANCE == 0]['RSSI'].to_numpy(dtype=int)}\n",
    "data = pd.DataFrame.from_dict(data_dict)"
   ]
  },
  {
   "cell_type": "code",
   "execution_count": null,
   "metadata": {},
   "outputs": [],
   "source": [
    "# Plot a histogram of RSSI vs. Distance\n",
    "style.use(\"ggplot\")\n",
    "data.plot.kde(bw_method=1, legend=True, backend='matplotlib')\n",
    "plt.show()"
   ]
  },
  {
   "cell_type": "markdown",
   "metadata": {},
   "source": [
    "# Mode RSSI vs. Distance"
   ]
  },
  {
   "cell_type": "markdown",
   "metadata": {},
   "source": [
    "The code below (taken directly from pi_pact_mode_rssi.py) plots the Mode RSSI vs. Distance relationship. There is an overall downward trend, but nothing strong enough for us to create a model predicting distance with RSSI values alone."
   ]
  },
  {
   "cell_type": "code",
   "execution_count": null,
   "metadata": {},
   "outputs": [],
   "source": [
    "DROP_COLUMNS = ['ADDRESS', 'TIMESTAMP', 'UUID', 'MAJOR', 'MINOR', 'TX POWER', 'PITCH', 'ROLL', 'YAW', 'SCAN']"
   ]
  },
  {
   "cell_type": "code",
   "execution_count": null,
   "metadata": {},
   "outputs": [],
   "source": [
    "# Initialize DataFrame\n",
    "data: pd.DataFrame = pd.DataFrame(columns=['RSSI', 'DISTANCE', 'TEMPERATURE', 'HUMIDITY', 'PRESSURE'])\n",
    "csv_file: Path\n",
    "for csv_file in Path('..').glob('indoor-noObstruct-SenseHat*/*.csv'):\n",
    "    datapart: pd.DataFrame = pd.read_csv(csv_file)\n",
    "    for column in DROP_COLUMNS:\n",
    "        if column in datapart.columns:\n",
    "            datapart = datapart.drop([column], 1)\n",
    "    data = data.append(datapart)"
   ]
  },
  {
   "cell_type": "code",
   "execution_count": null,
   "metadata": {},
   "outputs": [],
   "source": [
    "\"\"\"Shows a plot depicting mode RSSI vs. Distance data.\"\"\"\n",
    "data.sort_values(by=['DISTANCE', 'RSSI'], inplace=True)\n",
    "data = data.drop(['TEMPERATURE', 'HUMIDITY', 'PRESSURE'], 1)\n",
    "modes: pd.DataFrame = pd.DataFrame(columns=['RSSI', 'DISTANCE'])\n",
    "\n",
    "# Take the mode RSSI value from each pre-measured distance\n",
    "for distance in data['DISTANCE'].unique():\n",
    "    datapart = data[data.DISTANCE == distance]\n",
    "    datapart = datapart.agg(func='mode')\n",
    "    modes = modes.append([datapart])\n",
    "\n",
    "# Plot mode RSSI vs. Distance\n",
    "# style.use(\"ggplot\")\n",
    "fig, axs = plt.subplots(figsize=[10, 5])\n",
    "axs.plot(modes['DISTANCE'], modes['RSSI'], linewidth=1, marker='o', label='mode')\n",
    "axs.set_xlabel(f'DISTANCE (m)')\n",
    "axs.set_ylabel(f'RSSI (dBm)')\n",
    "axs.set_title(f'RSSI (dBm) vs. DISTANCE (m)')\n",
    "\n",
    "plt.show()"
   ]
  },
  {
   "cell_type": "markdown",
   "metadata": {},
   "source": [
    "# Mode RSSI vs. Humidity"
   ]
  },
  {
   "cell_type": "markdown",
   "metadata": {},
   "source": [
    "The code below (taken directly from pi_pact_plot_env.py) plots the Mode RSSI vs. Humidity relationship. There is an overall upward trend."
   ]
  },
  {
   "cell_type": "code",
   "execution_count": null,
   "metadata": {},
   "outputs": [],
   "source": [
    "INDEPEND: str = 'HUMIDITY'\n",
    "INDEPEND_UNITS: str = '%'\n",
    "DEPEND: str = 'RSSI'\n",
    "DEPEND_UNITS: str = 'dBm'"
   ]
  },
  {
   "cell_type": "code",
   "execution_count": null,
   "metadata": {},
   "outputs": [],
   "source": [
    "# Initialize DataFrame\n",
    "data: pd.DataFrame = pd.DataFrame(columns=[DEPEND, INDEPEND])\n",
    "csv_file: Path\n",
    "for csv_file in Path('..').glob('indoor-noObstruct-SenseHat*/*.csv'):\n",
    "    datapart: pd.DataFrame = pd.read_csv(csv_file)\n",
    "    for column in DROP_COLUMNS:\n",
    "        if column in datapart.columns:\n",
    "            datapart = datapart.drop([column], 1)\n",
    "    data = data.append(datapart)\n",
    "data.sort_values(by=[INDEPEND, DEPEND], inplace=True)\n",
    "data[INDEPEND] = data[INDEPEND].round(0)"
   ]
  },
  {
   "cell_type": "code",
   "execution_count": null,
   "metadata": {},
   "outputs": [],
   "source": [
    "# Take the mode RSSI value from each unique independent varaible value\n",
    "data = data.drop(['DISTANCE', 'TEMPERATURE', 'PRESSURE'], 1)\n",
    "modes: pd.DataFrame = pd.DataFrame(columns=[DEPEND, INDEPEND])\n",
    "for value in data[INDEPEND].unique():\n",
    "    datapart: pd.DataFrame = data.query(f'{INDEPEND} == {value}')\n",
    "    datapart = datapart.agg(func='mode')\n",
    "    modes = modes.append([datapart])"
   ]
  },
  {
   "cell_type": "code",
   "execution_count": null,
   "metadata": {},
   "outputs": [],
   "source": [
    "# Plot a line plot depicting the relationship between RSSI and some other variable\n",
    "style.use(\"ggplot\")\n",
    "fig, axs = plt.subplots()\n",
    "axs.plot(modes[INDEPEND], modes[DEPEND], marker='o')\n",
    "axs.set_xlabel(f'{INDEPEND} ({INDEPEND_UNITS})')\n",
    "axs.set_ylabel(f'{DEPEND} ({DEPEND_UNITS})')\n",
    "axs.set_title(f'{INDEPEND} ({INDEPEND_UNITS}) vs. {DEPEND} ({DEPEND_UNITS})')\n",
    "\n",
    "plt.show()"
   ]
  },
  {
   "cell_type": "markdown",
   "metadata": {},
   "source": [
    "# Mode RSSI vs. Temperature"
   ]
  },
  {
   "cell_type": "markdown",
   "metadata": {},
   "source": [
    "The code below (taken directly from pi_pact_plot_env.py) plots the Mode RSSI vs. Temperature relationship. There is an overall downward trend."
   ]
  },
  {
   "cell_type": "code",
   "execution_count": null,
   "metadata": {},
   "outputs": [],
   "source": [
    "INDEPEND: str = 'TEMPERATURE'\n",
    "INDEPEND_UNITS: str = 'Degrees C'"
   ]
  },
  {
   "cell_type": "code",
   "execution_count": null,
   "metadata": {},
   "outputs": [],
   "source": [
    "# Initialize DataFrame\n",
    "data: pd.DataFrame = pd.DataFrame(columns=[DEPEND, INDEPEND])\n",
    "csv_file: Path\n",
    "for csv_file in Path('..').glob('indoor-noObstruct-SenseHat*/*.csv'):\n",
    "    datapart: pd.DataFrame = pd.read_csv(csv_file)\n",
    "    for column in DROP_COLUMNS:\n",
    "        if column in datapart.columns:\n",
    "            datapart = datapart.drop([column], 1)\n",
    "    data = data.append(datapart)\n",
    "data.sort_values(by=[INDEPEND, DEPEND], inplace=True)\n",
    "data[INDEPEND] = data[INDEPEND].round(0)"
   ]
  },
  {
   "cell_type": "code",
   "execution_count": null,
   "metadata": {},
   "outputs": [],
   "source": [
    "# Take the mode RSSI value from each unique independent varaible value\n",
    "data = data.drop(['HUMIDITY', 'DISTANCE', 'PRESSURE'], 1)\n",
    "modes: pd.DataFrame = pd.DataFrame(columns=[DEPEND, INDEPEND])\n",
    "for value in data[INDEPEND].unique():\n",
    "    datapart: pd.DataFrame = data.query(f'{INDEPEND} == {value}')\n",
    "    datapart = datapart.agg(func='mode')\n",
    "    modes = modes.append([datapart])"
   ]
  },
  {
   "cell_type": "code",
   "execution_count": null,
   "metadata": {},
   "outputs": [],
   "source": [
    "# Plot a line plot depicting the relationship between RSSI and some other variable\n",
    "style.use(\"ggplot\")\n",
    "fig, axs = plt.subplots()\n",
    "axs.plot(modes[INDEPEND], modes[DEPEND], marker='o')\n",
    "axs.set_xlabel(f'{INDEPEND} ({INDEPEND_UNITS})')\n",
    "axs.set_ylabel(f'{DEPEND} ({DEPEND_UNITS})')\n",
    "axs.set_title(f'{INDEPEND} ({INDEPEND_UNITS}) vs. {DEPEND} ({DEPEND_UNITS})')\n",
    "\n",
    "plt.show()"
   ]
  },
  {
   "cell_type": "markdown",
   "metadata": {},
   "source": [
    "# Mode RSSI vs. Pressure"
   ]
  },
  {
   "cell_type": "markdown",
   "metadata": {},
   "source": [
    "The code below (taken directly from pi_pact_plot_env.py) plots the Mode RSSI vs. Pressure relationship. There is an overall downward trend."
   ]
  },
  {
   "cell_type": "code",
   "execution_count": null,
   "metadata": {},
   "outputs": [],
   "source": [
    "INDEPEND: str = 'PRESSURE'\n",
    "INDEPEND_UNITS: str = 'mbar'"
   ]
  },
  {
   "cell_type": "code",
   "execution_count": null,
   "metadata": {},
   "outputs": [],
   "source": [
    "# Initialize DataFrame\n",
    "data: pd.DataFrame = pd.DataFrame(columns=[DEPEND, INDEPEND])\n",
    "csv_file: Path\n",
    "for csv_file in Path('..').glob('indoor-noObstruct-SenseHat*/*.csv'):\n",
    "    datapart: pd.DataFrame = pd.read_csv(csv_file)\n",
    "    for column in DROP_COLUMNS:\n",
    "        if column in datapart.columns:\n",
    "            datapart = datapart.drop([column], 1)\n",
    "    data = data.append(datapart)\n",
    "data.sort_values(by=[INDEPEND, DEPEND], inplace=True)\n",
    "data[INDEPEND] = data[INDEPEND].round(0)"
   ]
  },
  {
   "cell_type": "code",
   "execution_count": null,
   "metadata": {},
   "outputs": [],
   "source": [
    "# Take the mode RSSI value from each unique independent varaible value\n",
    "data = data.drop(['TEMPERATURE', 'HUMIDITY', 'DISTANCE'], 1)\n",
    "modes: pd.DataFrame = pd.DataFrame(columns=[DEPEND, INDEPEND])\n",
    "for value in data[INDEPEND].unique():\n",
    "    datapart: pd.DataFrame = data.query(f'{INDEPEND} == {value}')\n",
    "    datapart = datapart.agg(func='mode')\n",
    "    modes = modes.append([datapart])"
   ]
  },
  {
   "cell_type": "code",
   "execution_count": null,
   "metadata": {},
   "outputs": [],
   "source": [
    "# Plot a line plot depicting the relationship between RSSI and some other variable\n",
    "style.use(\"ggplot\")\n",
    "fig, axs = plt.subplots()\n",
    "axs.plot(modes[INDEPEND], modes[DEPEND], marker='o')\n",
    "axs.set_xlabel(f'{INDEPEND} ({INDEPEND_UNITS})')\n",
    "axs.set_ylabel(f'{DEPEND} ({DEPEND_UNITS})')\n",
    "axs.set_title(f'{INDEPEND} ({INDEPEND_UNITS}) vs. {DEPEND} ({DEPEND_UNITS})')\n",
    "\n",
    "plt.show()"
   ]
  }
 ],
 "metadata": {
  "kernelspec": {
   "display_name": "Python 3",
   "language": "python",
   "name": "python3"
  },
  "language_info": {
   "codemirror_mode": {
    "name": "ipython",
    "version": 3
   },
   "file_extension": ".py",
   "mimetype": "text/x-python",
   "name": "python",
   "nbconvert_exporter": "python",
   "pygments_lexer": "ipython3",
   "version": "3.7.7"
  }
 },
 "nbformat": 4,
 "nbformat_minor": 4
}
