{
 "cells": [
  {
   "cell_type": "code",
   "execution_count": null,
   "metadata": {},
   "outputs": [],
   "source": [
    "# Config\n",
    "from pi_pact_sort import categorize, bin_categorize\n",
    "\n",
    "FEATURES: list = ['RSSI', 'HUMIDITY', 'PRESSURE'] # Contains strings 'RSSI', 'HUDMITIY', and/or 'PRESSURE'\n",
    "CATEGORIZE_FUNC = bin_categorize # One of the two binning functions in pi_pact_sort.py\n",
    "\n",
    "# Automatically configure other variables\n",
    "if len(FEATURES) > 1:\n",
    "    if len(FEATURES) == 2:\n",
    "        if 'HUMIDITY' in FEATURES:\n",
    "            feature_str = '3varH'\n",
    "        else:\n",
    "            feature_str = '3varP'\n",
    "    else:\n",
    "        feature_str = '4var'\n",
    "else:\n",
    "    feature_str = '2var'\n",
    "\n",
    "if CATEGORIZE_FUNC == categorize:\n",
    "    label_str = '3b'\n",
    "else:\n",
    "    label_str = 'binary'"
   ]
  },
  {
   "cell_type": "code",
   "execution_count": null,
   "metadata": {},
   "outputs": [],
   "source": [
    "import pandas as pd\n",
    "from pathlib import Path\n",
    "import numpy as np\n",
    "from sklearn.decomposition import PCA\n",
    "from sklearn.linear_model import RidgeClassifier, RidgeClassifierCV\n",
    "from sklearn.metrics import accuracy_score, make_scorer\n",
    "from sklearn.pipeline import make_pipeline, Pipeline\n",
    "from sklearn.preprocessing import MinMaxScaler, PolynomialFeatures\n",
    "\n",
    "DROP_COLUMNS = ['ADDRESS', 'TIMESTAMP', 'UUID', 'MAJOR', 'MINOR', 'TX POWER', 'TEMPERATURE',  \n",
    "                'PITCH', 'ROLL', 'YAW', 'SCAN']\n",
    "for feature in ['RSSI', 'HUMIDITY', 'PRESSURE']:\n",
    "    if feature not in FEATURES:\n",
    "        DROP_COLUMNS.append(feature)\n",
    "SAMPLE_SIZE = 30000\n",
    "np.random.seed(0)\n",
    "\n",
    "\n",
    "\"\"\"Trains a Ridge classifier to predict a distance range given RSSI values and other variables.\n",
    "\"\"\"\n",
    "\n",
    "# Initialize DataFrame\n",
    "data: pd.DataFrame = pd.DataFrame(columns=['DISTANCE', ] + FEATURES)\n",
    "data_copy: pd.DataFrame = data.copy()\n",
    "csv_file: Path\n",
    "for csv_file in Path('.').glob('indoor-noObstruct-SenseHat*/*.csv'):\n",
    "    datapart: pd.DataFrame = pd.read_csv(csv_file)\n",
    "    for column in DROP_COLUMNS:\n",
    "        if column in datapart.columns:\n",
    "            datapart = datapart.drop([column], 1)\n",
    "    data_copy = data_copy.append(datapart)\n",
    "\n",
    "# Categorize distance\n",
    "data_copy['DISTANCE'] = data_copy['DISTANCE'].map(CATEGORIZE_FUNC)\n",
    "\n",
    "# Sample data from each distance category\n",
    "for value in data_copy['DISTANCE'].unique():\n",
    "    datapart = data_copy[data_copy.DISTANCE == value]\n",
    "    datapart = datapart.sample(SAMPLE_SIZE, random_state=1)\n",
    "    data = data.append(datapart)\n",
    "\n",
    "# Assign features and labels\n",
    "X: np.array = data.drop(['DISTANCE'], 1).to_numpy(dtype='float32')\n",
    "y: np.array = data['DISTANCE'].to_numpy(dtype=int)\n",
    "\n",
    "# Preprocessing\n",
    "steps = [('min_max', MinMaxScaler()),\n",
    "         ('interactions', PolynomialFeatures(interaction_only=True,\n",
    "                                             include_bias=False))]\n",
    "if len(FEATURES) > 1:\n",
    "    steps.append(('dim_reduce', PCA()))"
   ]
  },
  {
   "cell_type": "code",
   "execution_count": null,
   "metadata": {
    "scrolled": true
   },
   "outputs": [],
   "source": [
    "# Tune dimensionality reduction if necessary\n",
    "alpha_list = [i/1000. for i in range(1, 1000)]\n",
    "if len(FEATURES) > 1:\n",
    "    best_score = 0\n",
    "    for i in range(2, 2 ** len(FEATURES) - 1):\n",
    "        steps[2] = ('dim_reduce', PCA(n_components=i))\n",
    "        preprocessing = Pipeline(steps=steps)\n",
    "        clf = make_pipeline(preprocessing, RidgeClassifierCV(alphas=alpha_list,\n",
    "                            scoring=make_scorer(accuracy_score),\n",
    "                            store_cv_values=True))\n",
    "        clf.fit(X, y)\n",
    "        if clf.score(X, y) > best_score:\n",
    "            best_score = clf.score(X, y)\n",
    "            best_clf = clf\n",
    "else:\n",
    "    preprocessing = Pipeline(steps=steps)\n",
    "    best_clf = make_pipeline(preprocessing, RidgeClassifierCV(alphas=alpha_list,\n",
    "                            scoring=make_scorer(accuracy_score),\n",
    "                            store_cv_values=True))\n",
    "    best_clf.fit(X, y)  \n"
   ]
  },
  {
   "cell_type": "code",
   "execution_count": null,
   "metadata": {},
   "outputs": [],
   "source": [
    "# Print optimal dimensionality and configure preprocessing for the best model\n",
    "if len(FEATURES) > 1:\n",
    "    best_n_components = best_clf.named_steps['pipeline'].named_steps['dim_reduce'].n_components\n",
    "    steps[2] = ('dim_reduce', PCA(n_components=best_n_components))\n",
    "    preprocessing = Pipeline(steps=steps)\n",
    "    print('n_components =', best_n_components)"
   ]
  },
  {
   "cell_type": "code",
   "execution_count": null,
   "metadata": {},
   "outputs": [],
   "source": [
    "# Print optimal alpha value and accuracy\n",
    "best_alpha = best_clf.named_steps['ridgeclassifiercv'].alpha_\n",
    "print('alpha =', best_alpha)\n",
    "print('accuracy =', best_clf.score(X, y))"
   ]
  },
  {
   "cell_type": "code",
   "execution_count": null,
   "metadata": {},
   "outputs": [],
   "source": [
    "# Fit the best model for smaller storage\n",
    "clf = make_pipeline(preprocessing, RidgeClassifier(alpha=best_alpha))\n",
    "clf.fit(X, y)"
   ]
  },
  {
   "cell_type": "code",
   "execution_count": null,
   "metadata": {},
   "outputs": [],
   "source": [
    "# Pickle model\n",
    "import pickle\n",
    "with open(f\"ridge-models/{feature_str}-{label_str}-polyFeatures-dimReduce-ridge-model.pickle\", \"wb\") as f:\n",
    "    pickle.dump(clf, f)"
   ]
  },
  {
   "cell_type": "code",
   "execution_count": null,
   "metadata": {},
   "outputs": [],
   "source": [
    "import matplotlib.pyplot as plt\n",
    "from sklearn.metrics import roc_curve\n",
    "\n",
    "# Plot an ROC curve\n",
    "if CATEGORIZE_FUNC == bin_categorize:\n",
    "    probs = clf.decision_function(X)\n",
    "    fpr, tpr, _ = roc_curve(y, probs)\n",
    "    plt.plot(fpr, tpr)\n",
    "    plt.title('ROC curve')\n",
    "    plt.xlabel('false positive rate')\n",
    "    plt.ylabel('true positive rate')\n",
    "    plt.xlim(0,)\n",
    "    plt.ylim(0,)\n",
    "    plt.savefig(str(Path(f'ridge-models/{feature_str}-{label_str}-polyFeatures-dimReduce-ridge-model-roc-curve.png')))"
   ]
  }
 ],
 "metadata": {
  "kernelspec": {
   "display_name": "Python 3",
   "language": "python",
   "name": "python3"
  },
  "language_info": {
   "codemirror_mode": {
    "name": "ipython",
    "version": 3
   },
   "file_extension": ".py",
   "mimetype": "text/x-python",
   "name": "python",
   "nbconvert_exporter": "python",
   "pygments_lexer": "ipython3",
   "version": "3.7.7"
  }
 },
 "nbformat": 4,
 "nbformat_minor": 4
}
