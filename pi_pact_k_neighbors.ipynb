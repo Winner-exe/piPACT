{
 "cells": [
  {
   "cell_type": "markdown",
   "metadata": {},
   "source": [
    "# K-Nearest Neighbors"
   ]
  },
  {
   "cell_type": "markdown",
   "metadata": {},
   "source": [
    "The following code trains a K-Nearest Neighbors Classifier to predict the distance between the Raspberrry Pis. The code can be run repeatedly with varying parameter grids to narrow in on the optimal parameters."
   ]
  },
  {
   "cell_type": "code",
   "execution_count": 1,
   "metadata": {},
   "outputs": [],
   "source": [
    "# Config\n",
    "from pi_pact_sort import categorize, bin_categorize\n",
    "\n",
    "FEATURES: list = ['RSSI', 'HUMIDITY', 'PRESSURE']\n",
    "CATEGORIZE_FUNC = bin_categorize\n",
    "\n",
    "if len(FEATURES) > 0:\n",
    "    if len(FEATURES) == 1:\n",
    "        if 'HUMIDITY' in FEATURES:\n",
    "            feature_str = '3varH'\n",
    "        else:\n",
    "            feature_str = '3varP'\n",
    "    else:\n",
    "        feature_str = '4var'\n",
    "else:\n",
    "    feature_str = '2var'\n",
    "\n",
    "if CATEGORIZE_FUNC == categorize:\n",
    "    label_str = '3b'\n",
    "else:\n",
    "    label_str = 'binary'"
   ]
  },
  {
   "cell_type": "code",
   "execution_count": 2,
   "metadata": {},
   "outputs": [],
   "source": [
    "import pandas as pd\n",
    "from pathlib import Path\n",
    "import numpy as np\n",
    "from sklearn.decomposition import PCA\n",
    "from sklearn.model_selection import GridSearchCV\n",
    "from sklearn.neighbors import KNeighborsClassifier\n",
    "from sklearn.pipeline import Pipeline\n",
    "from sklearn.preprocessing import MinMaxScaler, PolynomialFeatures\n",
    "\n",
    "DROP_COLUMNS = ['ADDRESS', 'TIMESTAMP', 'UUID', 'MAJOR', 'MINOR', 'TX POWER', 'TEMPERATURE',  \n",
    "                'PITCH', 'ROLL', 'YAW', 'SCAN']\n",
    "for feature in ['RSSI', 'HUMIDITY', 'PRESSURE']:\n",
    "    if feature not in FEATURES:\n",
    "        DROP_COLUMNS.append(feature)\n",
    "SAMPLE_SIZE = 30000\n",
    "np.random.seed(0)\n",
    "\n",
    "\n",
    "\"\"\"Trains a K-Nearest Neighbors classifier to predict a distance range given RSSI values and other variables.\n",
    "\"\"\"\n",
    "\n",
    "# Initialize DataFrame\n",
    "data: pd.DataFrame = pd.DataFrame(columns=['DISTANCE', ] + FEATURES)\n",
    "data_copy: pd.DataFrame = data.copy()\n",
    "csv_file: Path\n",
    "for csv_file in Path('.').glob('indoor-noObstruct-SenseHat*/*.csv'):\n",
    "    datapart: pd.DataFrame = pd.read_csv(csv_file)\n",
    "    for column in DROP_COLUMNS:\n",
    "        if column in datapart.columns:\n",
    "            datapart = datapart.drop([column], 1)\n",
    "    data_copy = data_copy.append(datapart)\n",
    "\n",
    "# Categorize distance\n",
    "data_copy['DISTANCE'] = data_copy['DISTANCE'].map(CATEGORIZE_FUNC)\n",
    "\n",
    "# Sample data from each distance category\n",
    "for value in data_copy['DISTANCE'].unique():\n",
    "    datapart = data_copy[data_copy.DISTANCE == value]\n",
    "    datapart = datapart.sample(SAMPLE_SIZE, random_state=1)\n",
    "    data = data.append(datapart)\n",
    "\n",
    "# Assign features and labels\n",
    "X: np.array = data.drop(['DISTANCE'], 1).to_numpy(dtype='float32')\n",
    "y: np.array = data['DISTANCE'].to_numpy(dtype=int)\n",
    "\n",
    "steps = [('min_max', MinMaxScaler()),\n",
    "         ('interactions', PolynomialFeatures(interaction_only=True,\n",
    "                                             include_bias=False))]\n",
    "if len(FEATURES) > 1:\n",
    "    steps.append(('dim_reduce', PCA()))\n",
    "preprocessing = Pipeline(steps=)\n",
    "pipe = Pipeline(steps=[('preprocessing', preprocessing),\n",
    "                       ('model', KNeighborsClassifier(metric='minkowski'))])"
   ]
  },
  {
   "cell_type": "code",
   "execution_count": 21,
   "metadata": {},
   "outputs": [
    {
     "data": {
      "text/plain": [
       "GridSearchCV(estimator=Pipeline(steps=[('preprocessing',\n",
       "                                        Pipeline(steps=[('min_max',\n",
       "                                                         MinMaxScaler()),\n",
       "                                                        ('interactions',\n",
       "                                                         PolynomialFeatures(include_bias=False,\n",
       "                                                                            interaction_only=True)),\n",
       "                                                        ('dim_reduce',\n",
       "                                                         PCA())])),\n",
       "                                       ('model', KNeighborsClassifier())]),\n",
       "             n_jobs=2,\n",
       "             param_grid={'model__n_neighbors': [1, 3, 5, 7, 9, 11, 13, 15, 17,\n",
       "                                                19],\n",
       "                         'model__p': [1, 2, 3, 4],\n",
       "                         'preprocessing__dim_reduce__n_components': [2, 3, 4, 5,\n",
       "                                                                     6]})"
      ]
     },
     "execution_count": 21,
     "metadata": {},
     "output_type": "execute_result"
    }
   ],
   "source": [
    "# Hyperparameter tuning\n",
    "import math\n",
    "\n",
    "start = 0\n",
    "stop = 500\n",
    "step = 50\n",
    "n_neighbors: list = list(2 * np.arange(start, stop, step) + 1)\n",
    "param_grid = {'model__n_neighbors': n_neighbors, 'model__p': [1, 2, 3, 4]}\n",
    "if len(FEATURES) > 1:\n",
    "    param_grid.update({'preprocessing__dim_reduce__n_components': [i for i in range(2, 2**len(FEATURES)-1)]})\n",
    "\n",
    "while math.gcd(step, 10) > 1:\n",
    "    grid = GridSearchCV(pipe, param_grid, n_jobs=2)\n",
    "    grid.fit(X, y)\n",
    "    best_n_neighbors = grid.best_params_['model__n_neighbors']\n",
    "    if best_n_neighbors != n_neighbors[0]:\n",
    "        start = ((best_n_neighbors - 2*step) - 1) // 2\n",
    "    \n",
    "    if best_n_neighbors != n_neighbors[-1]:\n",
    "        stop = ((best_n_neighbors + 2*step) - 1) // 2\n",
    "    \n",
    "    step = step // math.gcd(step, 10) \n",
    "    n_neighbors = list(2 * np.arange(start, stop, step) + 1)\n",
    "grid = GridSearchCV(pipe, param_grid, n_jobs=2)\n",
    "grid.fit(X, y)"
   ]
  },
  {
   "cell_type": "code",
   "execution_count": 22,
   "metadata": {},
   "outputs": [
    {
     "name": "stdout",
     "output_type": "stream",
     "text": [
      "{'model__n_neighbors': 9, 'model__p': 1, 'preprocessing__dim_reduce__n_components': 5}\n",
      "accuracy = 0.9692666666666666\n"
     ]
    }
   ],
   "source": [
    "print(grid.best_params_)\n",
    "print('accuracy =', grid.best_score_)"
   ]
  },
  {
   "cell_type": "code",
   "execution_count": 18,
   "metadata": {},
   "outputs": [],
   "source": [
    "# Pickle model\n",
    "import pickle\n",
    "with open(f\"knn-models/{feature_str}-{label_str}-polyFeatures-dimReduce-knn-model.pickle\", \"wb\") as f:\n",
    "    pickle.dump(grid.best_estimator_, f)"
   ]
  },
  {
   "cell_type": "code",
   "execution_count": 19,
   "metadata": {},
   "outputs": [
    {
     "data": {
      "image/png": "[encoded data removed]",
      "text/plain": [
       "<Figure size 432x288 with 1 Axes>"
      ]
     },
     "metadata": {
      "needs_background": "light"
     },
     "output_type": "display_data"
    }
   ],
   "source": [
    "# Plot an ROC curve\n",
    "import matplotlib.pyplot as plt\n",
    "from sklearn.metrics import roc_curve\n",
    "\n",
    "if CATEGORIZE_FUNC == bin_categorize:\n",
    "    probs = grid.best_estimator_.predict_proba(X)\n",
    "    fpr, tpr, _ = roc_curve(y, probs[:, 1])\n",
    "    plt.plot(fpr, tpr)\n",
    "    plt.title('ROC curve')\n",
    "    plt.xlabel('false positive rate')\n",
    "    plt.ylabel('true positive rate')\n",
    "    plt.xlim(0,)\n",
    "    plt.ylim(0,)\n",
    "    plt.savefig(str(Path(f'knn-models/{feature_str}-{label_str}-polyFeatures-dimReduce-knn-model-roc-curve.png')))"
   ]
  }
 ],
 "metadata": {
  "kernelspec": {
   "display_name": "Python 3",
   "language": "python",
   "name": "python3"
  },
  "language_info": {
   "codemirror_mode": {
    "name": "ipython",
    "version": 3
   },
   "file_extension": ".py",
   "mimetype": "text/x-python",
   "name": "python",
   "nbconvert_exporter": "python",
   "pygments_lexer": "ipython3",
   "version": "3.7.7"
  }
 },
 "nbformat": 4,
 "nbformat_minor": 4
}
